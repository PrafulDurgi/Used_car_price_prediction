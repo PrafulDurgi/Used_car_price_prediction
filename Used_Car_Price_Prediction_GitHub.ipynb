{
 "cells": [
  {
   "cell_type": "markdown",
   "id": "7c077fe9",
   "metadata": {},
   "source": [
    "\n",
    "# 🚗 Used Car Price Prediction\n",
    "\n",
    "## 📄 Project Description\n",
    "\n",
    "This project focuses on predicting the **selling price** of used cars based on various features such as year, kilometers driven, fuel type, seller type, and more.\n",
    "\n",
    "We perform:\n",
    "- 📊 **Exploratory Data Analysis (EDA)**\n",
    "- 🔄 **Data Preprocessing**\n",
    "- 🧠 **Model Training using Random Forest Regressor**\n",
    "- 📈 **Model Evaluation with Visuals**\n",
    "\n",
    "The dataset is visualized using Seaborn and Matplotlib, and the trained model is evaluated using R² Score and Mean Squared Error.\n"
   ]
  },
  {
   "cell_type": "code",
   "execution_count": null,
   "id": "bc9753f3",
   "metadata": {},
   "outputs": [],
   "source": [
    "# 📦 Import Libraries\n",
    "import pandas as pd\n",
    "import matplotlib.pyplot as plt\n",
    "import seaborn as sns\n",
    "%matplotlib inline\n",
    "\n",
    "# Ignore warnings\n",
    "import warnings\n",
    "warnings.filterwarnings('ignore')\n"
   ]
  },
  {
   "cell_type": "code",
   "execution_count": null,
   "id": "210e9e0f",
   "metadata": {},
   "outputs": [],
   "source": [
    "# 📂 Load Dataset\n",
    "df = pd.read_csv(\"used_car_data.csv\")\n",
    "df.head()"
   ]
  },
  {
   "cell_type": "code",
   "execution_count": null,
   "id": "c2194f4f",
   "metadata": {},
   "outputs": [],
   "source": [
    "# 📊 Selling Price Distribution\n",
    "plt.figure(figsize=(6,4))\n",
    "sns.histplot(df['selling_price'], kde=True)\n",
    "plt.title('Selling Price Distribution')\n",
    "plt.xlabel('Selling Price')\n",
    "plt.ylabel('Frequency')\n",
    "plt.show()"
   ]
  },
  {
   "cell_type": "code",
   "execution_count": null,
   "id": "305c4ac0",
   "metadata": {},
   "outputs": [],
   "source": [
    "# 🔋 Fuel Type Count\n",
    "plt.figure(figsize=(6,4))\n",
    "sns.countplot(x='fuel', data=df)\n",
    "plt.title('Fuel Type Count')\n",
    "plt.xlabel('Fuel Type')\n",
    "plt.ylabel('Count')\n",
    "plt.show()"
   ]
  },
  {
   "cell_type": "code",
   "execution_count": null,
   "id": "71178a83",
   "metadata": {},
   "outputs": [],
   "source": [
    "# 🔥 Correlation Heatmap\n",
    "df_encoded = pd.get_dummies(df.drop(\"name\", axis=1), drop_first=True)\n",
    "\n",
    "plt.figure(figsize=(8,6))\n",
    "sns.heatmap(df_encoded.corr(), annot=True, fmt=\".2f\", cmap=\"coolwarm\")\n",
    "plt.title(\"Correlation Heatmap\")\n",
    "plt.show()"
   ]
  },
  {
   "cell_type": "code",
   "execution_count": null,
   "id": "c9827b44",
   "metadata": {},
   "outputs": [],
   "source": [
    "# 🧠 Model Building: Random Forest Regressor\n",
    "from sklearn.model_selection import train_test_split\n",
    "from sklearn.ensemble import RandomForestRegressor\n",
    "from sklearn.metrics import r2_score, mean_squared_error\n",
    "\n",
    "X = df_encoded.drop(\"selling_price\", axis=1)\n",
    "y = df_encoded[\"selling_price\"]\n",
    "\n",
    "X_train, X_test, y_train, y_test = train_test_split(X, y, test_size=0.2, random_state=42)\n",
    "\n",
    "model = RandomForestRegressor(random_state=42)\n",
    "model.fit(X_train, y_train)\n",
    "\n",
    "y_pred = model.predict(X_test)\n",
    "\n",
    "r2 = r2_score(y_test, y_pred)\n",
    "mse = mean_squared_error(y_test, y_pred)\n",
    "\n",
    "print(f\"R² Score: {r2:.2f}\")\n",
    "print(f\"MSE: {mse:.2f}\")\n"
   ]
  },
  {
   "cell_type": "code",
   "execution_count": null,
   "id": "afde4bc0",
   "metadata": {},
   "outputs": [],
   "source": [
    "# 📈 Actual vs Predicted Plot\n",
    "plt.figure(figsize=(6,6))\n",
    "plt.scatter(y_test, y_pred, c='blue')\n",
    "plt.xlabel('Actual')\n",
    "plt.ylabel('Predicted')\n",
    "plt.title('Actual vs Predicted Selling Price')\n",
    "plt.plot([min(y_test), max(y_test)], [min(y_test), max(y_test)], color='red')\n",
    "plt.show()"
   ]
  },
  {
   "cell_type": "markdown",
   "id": "5edb8378",
   "metadata": {},
   "source": [
    "## ✅ Conclusion\n",
    "\n",
    "- We successfully built a used car price prediction model.\n",
    "- Explored and visualized the dataset.\n",
    "- Trained a Random Forest model with decent performance.\n",
    "- Evaluated results using scatter plot and metrics.\n",
    "\n",
    "🔗 Ready to share on GitHub!\n"
   ]
  }
 ],
 "metadata": {},
 "nbformat": 4,
 "nbformat_minor": 5
}
