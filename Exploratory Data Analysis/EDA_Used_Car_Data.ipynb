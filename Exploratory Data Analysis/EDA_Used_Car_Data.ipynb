{
 "cells": [
  {
   "cell_type": "markdown",
   "id": "e32afd96",
   "metadata": {},
   "source": [
    "\n",
    "# 📊 Exploratory Data Analysis (EDA) - Used Car Dataset\n",
    "\n",
    "This notebook presents a detailed **Exploratory Data Analysis (EDA)** of a used car dataset.\n",
    "\n",
    "We aim to uncover patterns and insights in the data before building predictive models. Key questions we try to answer:\n",
    "- What are the trends in car prices?\n",
    "- Which features are correlated with selling price?\n",
    "- How do fuel type, transmission, and ownership affect pricing?\n",
    "\n",
    "---\n"
   ]
  },
  {
   "cell_type": "code",
   "execution_count": null,
   "id": "9686b272",
   "metadata": {},
   "outputs": [],
   "source": [
    "# 📦 Import Libraries\n",
    "import pandas as pd\n",
    "import matplotlib.pyplot as plt\n",
    "import seaborn as sns\n",
    "%matplotlib inline\n",
    "\n",
    "import warnings\n",
    "warnings.filterwarnings('ignore')"
   ]
  },
  {
   "cell_type": "code",
   "execution_count": null,
   "id": "e092a8e3",
   "metadata": {},
   "outputs": [],
   "source": [
    "# 📂 Load Dataset\n",
    "df = pd.read_csv(\"used_car_data.csv\")\n",
    "df.head()"
   ]
  },
  {
   "cell_type": "code",
   "execution_count": null,
   "id": "8a01cfe0",
   "metadata": {},
   "outputs": [],
   "source": [
    "# 🧼 Basic Info and Missing Values\n",
    "print(df.info())\n",
    "print(\"\\nMissing values:\")\n",
    "print(df.isnull().sum())"
   ]
  },
  {
   "cell_type": "code",
   "execution_count": null,
   "id": "30b66b53",
   "metadata": {},
   "outputs": [],
   "source": [
    "# 📈 Distribution of Selling Price\n",
    "plt.figure(figsize=(6,4))\n",
    "sns.histplot(df['selling_price'], kde=True, color='skyblue')\n",
    "plt.title('Distribution of Selling Price')\n",
    "plt.xlabel('Selling Price')\n",
    "plt.ylabel('Frequency')\n",
    "plt.show()"
   ]
  },
  {
   "cell_type": "code",
   "execution_count": null,
   "id": "f5f50edd",
   "metadata": {},
   "outputs": [],
   "source": [
    "# 🔢 Distribution of Kilometers Driven\n",
    "plt.figure(figsize=(6,4))\n",
    "sns.histplot(df['km_driven'], bins=30, kde=True, color='orange')\n",
    "plt.title('Kilometers Driven Distribution')\n",
    "plt.xlabel('Kilometers Driven')\n",
    "plt.ylabel('Count')\n",
    "plt.show()"
   ]
  },
  {
   "cell_type": "code",
   "execution_count": null,
   "id": "7fbd747b",
   "metadata": {},
   "outputs": [],
   "source": [
    "# 🔋 Fuel Type Count\n",
    "plt.figure(figsize=(6,4))\n",
    "sns.countplot(x='fuel', data=df, palette='Set2')\n",
    "plt.title('Fuel Type Distribution')\n",
    "plt.xlabel('Fuel Type')\n",
    "plt.ylabel('Count')\n",
    "plt.show()"
   ]
  },
  {
   "cell_type": "code",
   "execution_count": null,
   "id": "c7f0311a",
   "metadata": {},
   "outputs": [],
   "source": [
    "# 🔄 Seller Type Count\n",
    "plt.figure(figsize=(6,4))\n",
    "sns.countplot(x='seller_type', data=df, palette='Set3')\n",
    "plt.title('Seller Type Distribution')\n",
    "plt.xlabel('Seller Type')\n",
    "plt.ylabel('Count')\n",
    "plt.show()"
   ]
  },
  {
   "cell_type": "code",
   "execution_count": null,
   "id": "a0063119",
   "metadata": {},
   "outputs": [],
   "source": [
    "# ⚙️ Transmission Type Count\n",
    "plt.figure(figsize=(6,4))\n",
    "sns.countplot(x='transmission', data=df, palette='Set1')\n",
    "plt.title('Transmission Type')\n",
    "plt.xlabel('Transmission')\n",
    "plt.ylabel('Count')\n",
    "plt.show()"
   ]
  },
  {
   "cell_type": "code",
   "execution_count": null,
   "id": "a52d653a",
   "metadata": {},
   "outputs": [],
   "source": [
    "# 🧠 Correlation Heatmap\n",
    "df_encoded = pd.get_dummies(df.drop(\"name\", axis=1), drop_first=True)\n",
    "\n",
    "plt.figure(figsize=(10,6))\n",
    "sns.heatmap(df_encoded.corr(), annot=True, fmt=\".2f\", cmap=\"coolwarm\")\n",
    "plt.title(\"Correlation Heatmap\")\n",
    "plt.show()"
   ]
  },
  {
   "cell_type": "markdown",
   "id": "c6528f28",
   "metadata": {},
   "source": [
    "## ✅ EDA Summary\n",
    "\n",
    "- The dataset has diverse fuel types, seller types, and transmission modes.\n",
    "- Selling price and kilometers driven are right-skewed.\n",
    "- Fuel type, transmission, and ownership history influence price.\n",
    "- Strong correlation between 'present_price' and 'selling_price'.\n",
    "\n",
    "Next steps: use these insights to build predictive models.\n"
   ]
  }
 ],
 "metadata": {},
 "nbformat": 4,
 "nbformat_minor": 5
}
